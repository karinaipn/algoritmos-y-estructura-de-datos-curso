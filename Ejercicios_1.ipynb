{
  "nbformat": 4,
  "nbformat_minor": 0,
  "metadata": {
    "colab": {
      "name": "Ejercicios_1.ipynb",
      "provenance": [],
      "collapsed_sections": []
    },
    "kernelspec": {
      "name": "python3",
      "display_name": "Python 3"
    },
    "language_info": {
      "name": "python"
    }
  },
  "cells": [
    {
      "cell_type": "markdown",
      "metadata": {
        "id": "oqYa-dLAybJB"
      },
      "source": [
        "**Ejercio 1:** Se tiene la siguiente lista de valores:\n",
        "\n",
        "lista_ = [1,2,3,4,5,6,6, [2,4,5,6,7,8,9], 'hola', 45]\n",
        "\n",
        "Necesitamos extraer de la lista anidada todos los valores que sean menores a 7 ya que son de vital importancia para generar un diccionario de datos.\n",
        "\n",
        "Consejo: use type para conocer el tipo de datos de los valores de la lista."
      ]
    },
    {
      "cell_type": "code",
      "metadata": {
        "colab": {
          "base_uri": "https://localhost:8080/"
        },
        "id": "p0nCRvN_BeoX",
        "outputId": "8129c1f0-c96c-40b4-8a4e-e575064e230d"
      },
      "source": [
        "lista_=[1,2,3,4,5,6,6,[2,4,5,6,7,8,9],'hola',45]\n",
        "type(lista_)\n"
      ],
      "execution_count": null,
      "outputs": [
        {
          "output_type": "execute_result",
          "data": {
            "text/plain": [
              "list"
            ]
          },
          "metadata": {
            "tags": []
          },
          "execution_count": 12
        }
      ]
    },
    {
      "cell_type": "code",
      "metadata": {
        "id": "Y-tIgJrnydzA"
      },
      "source": [
        "lista_=[1,2,3,4,5,6,6,[2,4,5,6,6,5,4,3,2,1,5,6,7,8,9],'hola',45]\n",
        "\n",
        "def get_values_mix_list(lista):\n",
        "  plana=[]\n",
        "  get_list=[]\n",
        "  for index in range (0,len(lista_)):\n",
        "    if type(lista_[index])==int:\n",
        "       plana.append(lista_[index])\n",
        "  for index in range (0,len(lista_)):\n",
        "    if type(lista_[index])==list:\n",
        "        for elemento in lista_[index]:\n",
        "            plana.append(elemento)\n",
        "        #print(plana)\n",
        "  for index in range (0,len(plana)):\n",
        "    if (plana[index])<7:\n",
        "       get_list.append(plana[index])\n",
        "  #print(get_list)\n",
        "  return get_list\n",
        "  \n",
        "    "
      ],
      "execution_count": 6,
      "outputs": []
    },
    {
      "cell_type": "code",
      "metadata": {
        "id": "AR2x6B3_Aynu"
      },
      "source": [
        "lista_obtenida=get_values_mix_list(lista_)\n"
      ],
      "execution_count": 7,
      "outputs": []
    },
    {
      "cell_type": "code",
      "metadata": {
        "colab": {
          "base_uri": "https://localhost:8080/"
        },
        "id": "OC6jmKbuFH-t",
        "outputId": "18caefa9-9da5-42a2-e87d-474256e440d3"
      },
      "source": [
        "result=[2,4,5,6,6,5,4,3,2,1,5,6]\n",
        "print(result==lista_obtenida)"
      ],
      "execution_count": 8,
      "outputs": [
        {
          "output_type": "stream",
          "text": [
            "False\n"
          ],
          "name": "stdout"
        }
      ]
    },
    {
      "cell_type": "markdown",
      "metadata": {
        "id": "Ugmw4FUemteg"
      },
      "source": [
        "ES FALSO POR QUE EN MI FUNCIÓN EXTRAJE LOS VALORES PERO LOS UNI AL RESTO DE VALORES DE LA LISTA COMPLETA.\n",
        "SIN EMBARGO LOS VALORES SE EXTRAJERON ADECUADAMENTE."
      ]
    },
    {
      "cell_type": "markdown",
      "metadata": {
        "id": "9DZkm4VanXs2"
      },
      "source": [
        "**SOLUCIÓN DADA EN CLASE**"
      ]
    },
    {
      "cell_type": "code",
      "metadata": {
        "id": "U2cubQzGnmpy"
      },
      "source": [
        "lista_=[1,2,3,4,5,6,6,[2,4,5,6,6,5,4,3,2,1,5,6,7,8,9],'hola',45]\n",
        "\n",
        "def get_values_mix_list(lista):\n",
        "\n",
        "  for i in range(0,len(lista)):\n",
        "    if type(lista[i])==list:\n",
        "      data_extraido=lista[i]\n",
        "      lista_menor_siete=[]\n",
        "      for j in range (0,len(data_extraido)):\n",
        "        if data_extraido[j]<7:\n",
        "          lista_menor_siete.append(data_extraido[j])\n",
        "\n",
        "  return lista_menor_siete"
      ],
      "execution_count": 9,
      "outputs": []
    },
    {
      "cell_type": "code",
      "metadata": {
        "colab": {
          "base_uri": "https://localhost:8080/"
        },
        "id": "K7menzZZnr4g",
        "outputId": "ea87a1de-20e1-4b24-bf96-f23724750dbf"
      },
      "source": [
        "get_list=get_values_mix_list(lista_)\n",
        "print(get_list)"
      ],
      "execution_count": 10,
      "outputs": [
        {
          "output_type": "stream",
          "text": [
            "[2, 4, 5, 6, 6, 5, 4, 3, 2, 1, 5, 6]\n"
          ],
          "name": "stdout"
        }
      ]
    },
    {
      "cell_type": "code",
      "metadata": {
        "colab": {
          "base_uri": "https://localhost:8080/"
        },
        "id": "bTGTF47EB3EQ",
        "outputId": "5690a481-b865-4ac4-e8fa-9062da56269d"
      },
      "source": [
        "result=[2,4,5,6,6,5,4,3,2,1,5,6]\n",
        "print(result==get_list)"
      ],
      "execution_count": 11,
      "outputs": [
        {
          "output_type": "stream",
          "text": [
            "True\n"
          ],
          "name": "stdout"
        }
      ]
    },
    {
      "cell_type": "markdown",
      "metadata": {
        "id": "JsVBOv_Ne4Kp"
      },
      "source": [
        "**Ejercicio 2:** Se trata de que usted genere una función para que los valores obtenidos en la lista pasen a formar parte de un diccionario que nos ayude a hacer consultas de los valores que se encuentran en esta estrctura de datos."
      ]
    },
    {
      "cell_type": "code",
      "metadata": {
        "id": "MGEwYl45wtyH"
      },
      "source": [
        "lista=[2,4,5,6,6,5,4,3,2,1,5,6]\n",
        "\n",
        "def create_dict(lista):\n",
        "\n",
        "  get_dic={}\n",
        "  llaves=range(len(lista))\n",
        "  for index in llaves:\n",
        "    get_dic[index]=lista[index]\n",
        "\n",
        "  return get_dic\n",
        "\n",
        "  #get_dict[llaves[i]]=lista[i]    Mi error era estar incluyendo la lista llaves como una forma de darle el lugar a cada uno de los indices ya establecidos en el for"
      ],
      "execution_count": 68,
      "outputs": []
    },
    {
      "cell_type": "code",
      "metadata": {
        "colab": {
          "base_uri": "https://localhost:8080/"
        },
        "id": "k3fcbihFsvGa",
        "outputId": "c72c6981-0911-43b0-83a6-f03866f8a42c"
      },
      "source": [
        "diccionariocreado=create_dict(lista)\n",
        "print(diccionariocreado)"
      ],
      "execution_count": 69,
      "outputs": [
        {
          "output_type": "stream",
          "text": [
            "{0: 2, 1: 4, 2: 5, 3: 6, 4: 6, 5: 5, 6: 4, 7: 3, 8: 2, 9: 1, 10: 5, 11: 6}\n"
          ],
          "name": "stdout"
        }
      ]
    },
    {
      "cell_type": "code",
      "metadata": {
        "colab": {
          "base_uri": "https://localhost:8080/"
        },
        "id": "17cUWVw-yf80",
        "outputId": "4e0b57a4-8798-4593-ec14-40a1c9b3fab1"
      },
      "source": [
        "solucion={0: 2, 1: 4, 2: 5, 3: 6, 4: 6, 5: 5, 6: 4, 7: 3, 8: 2, 9: 1, 10: 5, 11: 6}\n",
        "print(solucion == diccionariocreado)"
      ],
      "execution_count": 71,
      "outputs": [
        {
          "output_type": "stream",
          "text": [
            "True\n"
          ],
          "name": "stdout"
        }
      ]
    },
    {
      "cell_type": "markdown",
      "metadata": {
        "id": "pCL_H3JGoJMn"
      },
      "source": [
        "**SOLUCIÓN DADA EN CLASE**"
      ]
    },
    {
      "cell_type": "code",
      "metadata": {
        "id": "Agmy3tw8oO9I"
      },
      "source": [
        "lista= [2,4,5,6,6,5,4,3,2,1,5,6]\n",
        "def create_dict(lista):\n",
        "\n",
        "  dic={}\n",
        "  keys=range(len(lista))\n",
        "  print(keys)\n",
        "  for i in keys:\n",
        "    dic[i]=lista[i]\n",
        "  \n",
        "  return dic"
      ],
      "execution_count": 50,
      "outputs": []
    },
    {
      "cell_type": "code",
      "metadata": {
        "colab": {
          "base_uri": "https://localhost:8080/"
        },
        "id": "au9I_N8_oX4z",
        "outputId": "c925763f-f7bb-4a94-ca2f-461c6cdc80cf"
      },
      "source": [
        "diccionario=create_dict(get_list)\n",
        "print(diccionario)"
      ],
      "execution_count": 51,
      "outputs": [
        {
          "output_type": "stream",
          "text": [
            "range(0, 12)\n",
            "{0: 2, 1: 4, 2: 5, 3: 6, 4: 6, 5: 5, 6: 4, 7: 3, 8: 2, 9: 1, 10: 5, 11: 6}\n"
          ],
          "name": "stdout"
        }
      ]
    },
    {
      "cell_type": "markdown",
      "metadata": {
        "id": "ZO-UuRqbXh-l"
      },
      "source": [
        "**Ejercicio 3:** Se hizo una petición http y se obtiene la siguiente información en un conjunto de lista y diccionario, necesito obtener cierta información de alto valor para relizar un modelo que nos ayude a identificar objetos en una imágen, obtenga los valores de la key 'object' y almacenelos en una lista para su posterior análisis."
      ]
    },
    {
      "cell_type": "code",
      "metadata": {
        "id": "q2sTu7gqIr2O"
      },
      "source": [
        "cognitive_response = [\n",
        "  {\n",
        "    \"rectangle\": {\n",
        "      \"x\": 6,\n",
        "      \"y\": 390,\n",
        "      \"w\": 48,\n",
        "      \"h\": 40\n",
        "    },\n",
        "    \"object\": \"footwear\",\n",
        "    \"confidence\": 0.513\n",
        "  },\n",
        "  {\n",
        "    \"rectangle\": {\n",
        "      \"x\": 104,\n",
        "      \"y\": 104,\n",
        "      \"w\": 127,\n",
        "      \"h\": 323\n",
        "    },\n",
        "    \"object\": \"person\",\n",
        "    \"confidence\": 0.763\n",
        "  },\n",
        "  {\n",
        "    \"rectangle\": {\n",
        "      \"x\": 174,\n",
        "      \"y\": 236,\n",
        "      \"w\": 113,\n",
        "      \"h\": 74\n",
        "    },\n",
        "    \"object\": \"Laptop\",\n",
        "    \"parent\": {\n",
        "      \"object\": \"computer\",\n",
        "      \"confidence\": 0.56\n",
        "    },\n",
        "    \"confidence\": 0.553\n",
        "  },\n",
        "  {\n",
        "    \"rectangle\": {\n",
        "      \"x\": 351,\n",
        "      \"y\": 331,\n",
        "      \"w\": 154,\n",
        "      \"h\": 99\n",
        "    },\n",
        "    \"object\": \"seating\",\n",
        "    \"confidence\": 0.525\n",
        "  },\n",
        "  {\n",
        "    \"rectangle\": {\n",
        "      \"x\": 0,\n",
        "      \"y\": 101,\n",
        "      \"w\": 174,\n",
        "      \"h\": 329\n",
        "    },\n",
        "    \"object\": \"person\",\n",
        "    \"confidence\": 0.855\n",
        "  },\n",
        "  {\n",
        "    \"rectangle\": {\n",
        "      \"x\": 223,\n",
        "      \"y\": 99,\n",
        "      \"w\": 199,\n",
        "      \"h\": 322\n",
        "    },\n",
        "    \"object\": \"person\",\n",
        "    \"confidence\": 0.725\n",
        "  },\n",
        "  {\n",
        "    \"rectangle\": {\n",
        "      \"x\": 154,\n",
        "      \"y\": 191,\n",
        "      \"w\": 387,\n",
        "      \"h\": 218\n",
        "    },\n",
        "    \"object\": \"seating\",\n",
        "    \"confidence\": 0.679\n",
        "  },\n",
        "  {\n",
        "    \"rectangle\": {\n",
        "      \"x\": 111,\n",
        "      \"y\": 275,\n",
        "      \"w\": 264,\n",
        "      \"h\": 151\n",
        "    },\n",
        "    \"object\": \"table\",\n",
        "    \"confidence\": 0.601\n",
        "  }\n",
        "]"
      ],
      "execution_count": 76,
      "outputs": []
    },
    {
      "cell_type": "code",
      "metadata": {
        "colab": {
          "base_uri": "https://localhost:8080/"
        },
        "id": "Y_pWojZzz_DN",
        "outputId": "f598ad78-710b-4ac2-98cb-f36f569db90c"
      },
      "source": [
        "cognitive_response"
      ],
      "execution_count": 79,
      "outputs": [
        {
          "output_type": "execute_result",
          "data": {
            "text/plain": [
              "[{'confidence': 0.513,\n",
              "  'object': 'footwear',\n",
              "  'rectangle': {'h': 40, 'w': 48, 'x': 6, 'y': 390}},\n",
              " {'confidence': 0.763,\n",
              "  'object': 'person',\n",
              "  'rectangle': {'h': 323, 'w': 127, 'x': 104, 'y': 104}},\n",
              " {'confidence': 0.553,\n",
              "  'object': 'Laptop',\n",
              "  'parent': {'confidence': 0.56, 'object': 'computer'},\n",
              "  'rectangle': {'h': 74, 'w': 113, 'x': 174, 'y': 236}},\n",
              " {'confidence': 0.525,\n",
              "  'object': 'seating',\n",
              "  'rectangle': {'h': 99, 'w': 154, 'x': 351, 'y': 331}},\n",
              " {'confidence': 0.855,\n",
              "  'object': 'person',\n",
              "  'rectangle': {'h': 329, 'w': 174, 'x': 0, 'y': 101}},\n",
              " {'confidence': 0.725,\n",
              "  'object': 'person',\n",
              "  'rectangle': {'h': 322, 'w': 199, 'x': 223, 'y': 99}},\n",
              " {'confidence': 0.679,\n",
              "  'object': 'seating',\n",
              "  'rectangle': {'h': 218, 'w': 387, 'x': 154, 'y': 191}},\n",
              " {'confidence': 0.601,\n",
              "  'object': 'table',\n",
              "  'rectangle': {'h': 151, 'w': 264, 'x': 111, 'y': 275}}]"
            ]
          },
          "metadata": {
            "tags": []
          },
          "execution_count": 79
        }
      ]
    },
    {
      "cell_type": "markdown",
      "metadata": {
        "id": "Wd0xVXajHS_F"
      },
      "source": [
        "**Se definio la función para que indique primero los campos que existen en los diccionarios y luego da la opcion para seleccionar alguno de ellos**"
      ]
    },
    {
      "cell_type": "code",
      "metadata": {
        "id": "23yi-UnWgBVa"
      },
      "source": [
        "def get_object(list):\n",
        "  for j in range (0,len(list)):\n",
        "    if type (list[j])==dict:\n",
        "       etiqueta=[]\n",
        "       etiqueta.append([list[j].keys()])\n",
        "       print(etiqueta)\n",
        "  l=[]\n",
        "  campo=str(input(\"escriba el campo: \"))\n",
        "  for i in range(0,len(list)):\n",
        "    l.append(list[i][campo])\n",
        "  return l\n"
      ],
      "execution_count": 130,
      "outputs": []
    },
    {
      "cell_type": "code",
      "metadata": {
        "colab": {
          "base_uri": "https://localhost:8080/"
        },
        "id": "yhmeTf2p7ZY7",
        "outputId": "da4ddd0c-f5c0-475e-8ec9-2064cd2138d5"
      },
      "source": [
        "list_objets=get_object(cognitive_response)\n",
        "print(list_objets)"
      ],
      "execution_count": 125,
      "outputs": [
        {
          "output_type": "stream",
          "text": [
            "[[dict_keys(['rectangle', 'object', 'confidence'])]]\n",
            "[[dict_keys(['rectangle', 'object', 'confidence'])]]\n",
            "[[dict_keys(['rectangle', 'object', 'parent', 'confidence'])]]\n",
            "[[dict_keys(['rectangle', 'object', 'confidence'])]]\n",
            "[[dict_keys(['rectangle', 'object', 'confidence'])]]\n",
            "[[dict_keys(['rectangle', 'object', 'confidence'])]]\n",
            "[[dict_keys(['rectangle', 'object', 'confidence'])]]\n",
            "[[dict_keys(['rectangle', 'object', 'confidence'])]]\n",
            "escriba el campo: object\n",
            "['footwear', 'person', 'Laptop', 'seating', 'person', 'person', 'seating', 'table']\n"
          ],
          "name": "stdout"
        }
      ]
    },
    {
      "cell_type": "code",
      "metadata": {
        "colab": {
          "base_uri": "https://localhost:8080/"
        },
        "id": "8DmpznkJFQYm",
        "outputId": "f1128df1-d982-4589-b11a-e321e99834f6"
      },
      "source": [
        "real_list_objects=['footwear','person','Laptop','seating','person','person','seating','table']\n",
        "print(list_objets==real_list_objects)"
      ],
      "execution_count": 129,
      "outputs": [
        {
          "output_type": "stream",
          "text": [
            "True\n"
          ],
          "name": "stdout"
        }
      ]
    },
    {
      "cell_type": "code",
      "metadata": {
        "colab": {
          "base_uri": "https://localhost:8080/"
        },
        "id": "YfiPbXnNGpW9",
        "outputId": "a9607d04-157c-4e54-a9f4-db4f51a43cef"
      },
      "source": [
        "list_objets=get_object(cognitive_response)\n",
        "print(list_objets)"
      ],
      "execution_count": 133,
      "outputs": [
        {
          "output_type": "stream",
          "text": [
            "[[dict_keys(['rectangle', 'object', 'confidence'])]]\n",
            "[[dict_keys(['rectangle', 'object', 'confidence'])]]\n",
            "[[dict_keys(['rectangle', 'object', 'parent', 'confidence'])]]\n",
            "[[dict_keys(['rectangle', 'object', 'confidence'])]]\n",
            "[[dict_keys(['rectangle', 'object', 'confidence'])]]\n",
            "[[dict_keys(['rectangle', 'object', 'confidence'])]]\n",
            "[[dict_keys(['rectangle', 'object', 'confidence'])]]\n",
            "[[dict_keys(['rectangle', 'object', 'confidence'])]]\n",
            "escriba el campo: confidence\n",
            "[0.513, 0.763, 0.553, 0.525, 0.855, 0.725, 0.679, 0.601]\n"
          ],
          "name": "stdout"
        }
      ]
    }
  ]
}